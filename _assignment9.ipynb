{
 "cells": [
  {
   "cell_type": "code",
   "execution_count": null,
   "id": "f9fbe53f-8522-4c96-a69d-d81c82d5503e",
   "metadata": {},
   "outputs": [],
   "source": [
    "#Q1, Create a vehicle class with an init method having instance variables as name_of_vehicle, max_speed \n",
    "#and average_of_vehicle. \n",
    "ans = class vehicle:\n",
    "    \n",
    "    def __init__(self, name_of_vehicle , max_speed , average_of_vcehicle):\n",
    "        self.name_of_vehicle  = name_of_vehicle\n",
    "        self.max_speed =        max_speed\n",
    "        self.average_of_vehicle=9\n",
    "        \n",
    "a = vehicle(\"ferrari\" ,400 , 11)  \n",
    "\n",
    "a.name_of_vehicle\n",
    "\n",
    "'ferrari'\n",
    "        \n",
    "        \n",
    "#Q2.  Create a child class car from the vehicle class created in Que 1, which will inherit the vehicle class. \n",
    "#Create a method named seating_capacity which takes capacity as an argument and returns the name of \n",
    "#the vehicle and its seating capacity.\n",
    "\n",
    "ans = \n",
    "class vehicle:\n",
    "    \n",
    "    def __init__(self, name_of_vehicle , max_speed , average_of_vcehicle):\n",
    "        self.name_of_vehicle  = name_of_vehicle\n",
    "        self.max_speed =        max_speed\n",
    "        self.average_of_vehicle=9\n",
    "        \n",
    "class car(vehicle):\n",
    "    \n",
    "    def car1(self, seating_capacity):\n",
    "        return \"the name car is ferrari\"\n",
    "        \n",
    "            \n",
    "\n",
    "#Q3. What is multiple inheritance? Write a python code to demonstrate multiple inheritance.\n",
    "\n",
    "ans = when a child class inherits from the more then one class .i.e., this child class derived from multiple classes, we can cxall it multiple inheritance.\n",
    "\n",
    "class tst1:\n",
    "    \n",
    "    def test(self):\n",
    "        return \"this is a 1st base class\"\n",
    "class tst2:\n",
    "    \n",
    "    def test1(self):\n",
    "        return \"this is 2nd base clsss\"  \n",
    "\n",
    "class tst3(tst1 , tst2):\n",
    "    pass    \n",
    "    \n",
    "\n",
    "#Q4. What are getter and setter in python? Create a class and create a getter and a setter method in this \n",
    "#class.\n",
    "ans = Getter: A method that allows you to access an attribute in a given class. Setter: A method that allows you to set or mutate the value of an attribute in a class.\n",
    " \n",
    "class btech:\n",
    "    \n",
    "    def __init__(self, no_of_electrical_student):\n",
    "        self.__no_of_electrical_student = no_of_electrical_student\n",
    "        \n",
    "    def set_value(self , no_of_electrical_student):\n",
    "        self.__no_of_electrical_student = no_of_electrical_student\n",
    "        \n",
    "        \n",
    "    def get_value(self):\n",
    "        return self.__no_of_electrical_student\n",
    "        \n",
    "        \n",
    "\n",
    "#Q5.What is method overriding in python? Write a python code to demonstrate method overriding\n",
    "ans = when you have two different method of same name and also each method perform different task.\n"
   ]
  },
  {
   "cell_type": "code",
   "execution_count": 67,
   "id": "0a818f0f-19d4-42e1-9a7f-b2ad9dfad649",
   "metadata": {},
   "outputs": [],
   "source": [
    "class vehicle:\n",
    "    \n",
    "    def __init__(self, name_of_vehicle , max_speed , average_of_vcehicle):\n",
    "        self.name_of_vehicle  = name_of_vehicle\n",
    "        self.max_speed =        max_speed\n",
    "        self.average_of_vehicle=9\n",
    "        \n",
    "class car(vehicle):\n",
    "    \n",
    "    def car1(self, seating_capacity):\n",
    "        return \"the name car is ferrari\"\n",
    "        \n",
    "            \n",
    "        \n",
    "        "
   ]
  },
  {
   "cell_type": "code",
   "execution_count": 9,
   "id": "59b3df30-1846-4018-83ee-0222c5535c44",
   "metadata": {},
   "outputs": [],
   "source": []
  },
  {
   "cell_type": "code",
   "execution_count": 10,
   "id": "721af18a-3d2b-439e-baff-ea90bbf1f06a",
   "metadata": {},
   "outputs": [
    {
     "data": {
      "text/plain": [
       "'ferrari'"
      ]
     },
     "execution_count": 10,
     "metadata": {},
     "output_type": "execute_result"
    }
   ],
   "source": [
    "a.name_of_vehicle"
   ]
  },
  {
   "cell_type": "code",
   "execution_count": 11,
   "id": "75e6b51c-80e9-4ba7-a1a3-f16eb84b94e8",
   "metadata": {},
   "outputs": [
    {
     "data": {
      "text/plain": [
       "400"
      ]
     },
     "execution_count": 11,
     "metadata": {},
     "output_type": "execute_result"
    }
   ],
   "source": [
    "a.max_speed"
   ]
  },
  {
   "cell_type": "code",
   "execution_count": 12,
   "id": "a3f33a68-cbda-4562-87ea-05c4df499f57",
   "metadata": {},
   "outputs": [
    {
     "data": {
      "text/plain": [
       "9"
      ]
     },
     "execution_count": 12,
     "metadata": {},
     "output_type": "execute_result"
    }
   ],
   "source": [
    "a.average_of_vehicle\n"
   ]
  },
  {
   "cell_type": "code",
   "execution_count": 63,
   "id": "aebfd769-d05d-4d2b-bd29-e4b725c9326e",
   "metadata": {},
   "outputs": [],
   "source": [
    "class car(vehicle):\n",
    "    \n",
    "    def car1(self, seating_capacity):\n",
    "        self.seating_capacity = seating_capacity\n",
    "        return \"the name car is ferrari\" \n",
    "        \n",
    "    \n",
    "    "
   ]
  },
  {
   "cell_type": "code",
   "execution_count": 62,
   "id": "5df73fcb-9466-4c9e-b281-d9cd7779f2f9",
   "metadata": {},
   "outputs": [],
   "source": [
    "a = car(\"ferrari\" , 400 , 8)"
   ]
  },
  {
   "cell_type": "code",
   "execution_count": 66,
   "id": "97cf630a-2419-40dd-b186-875a7428dfc8",
   "metadata": {},
   "outputs": [
    {
     "data": {
      "text/plain": [
       "'the name car is ferrari'"
      ]
     },
     "execution_count": 66,
     "metadata": {},
     "output_type": "execute_result"
    }
   ],
   "source": [
    "a.car1(2)"
   ]
  },
  {
   "cell_type": "code",
   "execution_count": 68,
   "id": "87cf05c7-afec-4883-ab26-75bc011cda27",
   "metadata": {},
   "outputs": [],
   "source": [
    "class tst1:\n",
    "    \n",
    "    def test(self):\n",
    "        return \"this is a 1st base class\"\n",
    "class tst2:\n",
    "    \n",
    "    def test1(self):\n",
    "        return \"this is 2nd base clsss\"  \n",
    "\n",
    "class tst3(tst1 , tst2):\n",
    "    pass    \n",
    "    "
   ]
  },
  {
   "cell_type": "code",
   "execution_count": 69,
   "id": "ce9c8b2b-7d89-44ba-b52b-59b40e55ff4e",
   "metadata": {},
   "outputs": [],
   "source": [
    "class tst2:\n",
    "    \n",
    "    def test1(self):\n",
    "        return \"this is 2nd base clsss\""
   ]
  },
  {
   "cell_type": "code",
   "execution_count": 71,
   "id": "1dc0d69c-e52b-4e0e-b1f4-eeceb795fa38",
   "metadata": {},
   "outputs": [],
   "source": [
    "class tst3(tst1 , tst2):\n",
    "    pass"
   ]
  },
  {
   "cell_type": "code",
   "execution_count": 72,
   "id": "28dceeb1-4bd4-4b36-8d2b-5845f00f9bc3",
   "metadata": {},
   "outputs": [],
   "source": [
    "a = tst3"
   ]
  },
  {
   "cell_type": "code",
   "execution_count": 75,
   "id": "cce51b01-7f05-48a0-b7e1-f8661410c1bb",
   "metadata": {},
   "outputs": [
    {
     "data": {
      "text/plain": [
       "'this is a 1st base class'"
      ]
     },
     "execution_count": 75,
     "metadata": {},
     "output_type": "execute_result"
    }
   ],
   "source": [
    "a.test(1)"
   ]
  },
  {
   "cell_type": "code",
   "execution_count": 171,
   "id": "bca44a71-8e60-47b8-896c-7bcd92312e93",
   "metadata": {},
   "outputs": [],
   "source": [
    "class btech:\n",
    "    \n",
    "    def __init__(self, no_of_electrical_student):\n",
    "        self.__no_of_electrical_student = no_of_electrical_student\n",
    "        \n",
    "    def set_value(self , no_of_electrical_student):\n",
    "        self.__no_of_electrical_student = no_of_electrical_student\n",
    "        \n",
    "        \n",
    "    def get_value(self):\n",
    "        return self.__no_of_electrical_student\n",
    "        \n",
    "        \n",
    "        "
   ]
  },
  {
   "cell_type": "code",
   "execution_count": 187,
   "id": "9dbbb8e8-562f-442b-9ed0-e191409fbe78",
   "metadata": {},
   "outputs": [],
   "source": [
    "a = btech(20)"
   ]
  },
  {
   "cell_type": "code",
   "execution_count": 188,
   "id": "9df326d4-5a2e-44ef-bb1f-e74fc7ed9576",
   "metadata": {},
   "outputs": [],
   "source": [
    "a.set_value(30)"
   ]
  },
  {
   "cell_type": "code",
   "execution_count": 189,
   "id": "39e452fe-87f8-4c99-a137-383d93989641",
   "metadata": {},
   "outputs": [
    {
     "data": {
      "text/plain": [
       "30"
      ]
     },
     "execution_count": 189,
     "metadata": {},
     "output_type": "execute_result"
    }
   ],
   "source": [
    "a.get_value()"
   ]
  },
  {
   "cell_type": "code",
   "execution_count": 2,
   "id": "8b1d232f-dd9b-450a-a44c-e97352f81fb9",
   "metadata": {},
   "outputs": [],
   "source": [
    "class parent:\n",
    "    \n",
    "    def father(self):\n",
    "        print(\"do not break the traffic rule\")"
   ]
  },
  {
   "cell_type": "code",
   "execution_count": 3,
   "id": "a7d47061-4f38-42fc-bde6-b6c476c11116",
   "metadata": {},
   "outputs": [],
   "source": [
    "class child(parent):\n",
    "    \n",
    "    def son(self):\n",
    "        print(\"some time we can break the traffic\")\n",
    "        "
   ]
  },
  {
   "cell_type": "code",
   "execution_count": 4,
   "id": "645c7123-7ae4-46b0-a21c-286a64bbaf34",
   "metadata": {},
   "outputs": [],
   "source": [
    "a = child\n"
   ]
  },
  {
   "cell_type": "code",
   "execution_count": 8,
   "id": "456bc7bc-1a91-4bbc-8a47-e187c18e15ba",
   "metadata": {},
   "outputs": [
    {
     "ename": "NameError",
     "evalue": "name 'father' is not defined",
     "output_type": "error",
     "traceback": [
      "\u001b[0;31m---------------------------------------------------------------------------\u001b[0m",
      "\u001b[0;31mNameError\u001b[0m                                 Traceback (most recent call last)",
      "Cell \u001b[0;32mIn[8], line 1\u001b[0m\n\u001b[0;32m----> 1\u001b[0m a\u001b[38;5;241m.\u001b[39mson(\u001b[43mfather\u001b[49m)\n",
      "\u001b[0;31mNameError\u001b[0m: name 'father' is not defined"
     ]
    }
   ],
   "source": [
    "a.son()"
   ]
  },
  {
   "cell_type": "code",
   "execution_count": null,
   "id": "8049ab69-186d-4995-ad32-60f8096e15ce",
   "metadata": {},
   "outputs": [],
   "source": []
  }
 ],
 "metadata": {
  "kernelspec": {
   "display_name": "Python 3 (ipykernel)",
   "language": "python",
   "name": "python3"
  },
  "language_info": {
   "codemirror_mode": {
    "name": "ipython",
    "version": 3
   },
   "file_extension": ".py",
   "mimetype": "text/x-python",
   "name": "python",
   "nbconvert_exporter": "python",
   "pygments_lexer": "ipython3",
   "version": "3.10.8"
  }
 },
 "nbformat": 4,
 "nbformat_minor": 5
}
